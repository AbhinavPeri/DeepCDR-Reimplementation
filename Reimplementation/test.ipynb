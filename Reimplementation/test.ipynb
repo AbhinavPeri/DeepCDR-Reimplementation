{
 "cells": [
  {
   "cell_type": "code",
   "execution_count": 9,
   "outputs": [
    {
     "name": "stderr",
     "output_type": "stream",
     "text": [
      "Global seed set to 0\n"
     ]
    },
    {
     "name": "stdout",
     "output_type": "stream",
     "text": [
      "The tensorboard extension is already loaded. To reload it, use:\n",
      "  %reload_ext tensorboard\n"
     ]
    },
    {
     "name": "stderr",
     "output_type": "stream",
     "text": [
      "/home/user/PycharmProjects/DeepCDR/venv/lib/python3.8/site-packages/torch/nn/modules/lazy.py:178: UserWarning: Lazy modules are a new feature under heavy development so changes to the API or functionality can happen at any moment.\n",
      "  warnings.warn('Lazy modules are a new feature under heavy development '\n"
     ]
    },
    {
     "data": {
      "text/plain": "tensor([-0.0633], grad_fn=<AddBackward0>)"
     },
     "execution_count": 9,
     "metadata": {},
     "output_type": "execute_result"
    }
   ],
   "source": [
    "from Reimplementation.data.DeepCDRDataModule import DeepCDRDataset\n",
    "from torch_geometric.datasets import FakeDataset\n",
    "from torch_geometric.data import Batch, Data\n",
    "import torch_geometric.data\n",
    "from pytorch_lightning.loggers import TensorBoardLogger\n",
    "from torch.optim import SGD\n",
    "from Reimplementation.util.utils import *\n",
    "from Reimplementation.util.config import *\n",
    "import torch\n",
    "import torch.nn.functional as F\n",
    "import pytorch_lightning as pl\n",
    "from torch.utils.data import random_split, TensorDataset, DataLoader\n",
    "from torch import nn\n",
    "\n",
    "%load_ext tensorboard\n",
    "pl.seed_everything(0)\n",
    "\n",
    "GCN = ConvType.GCN\n",
    "GAT = ConvType.GAT\n",
    "tanh = ActivationFunc.Tanh\n",
    "relu = ActivationFunc.ReLU\n",
    "f_tanh = FuncActivationFunc.Tanh\n",
    "f_relu = FuncActivationFunc.ReLU\n",
    "\n",
    "dpath = '../data'\n",
    "drug_info_file = '%s/GDSC/1.Drug_listMon Jun 24 09_00_55 2019.csv' % dpath\n",
    "cell_line_info_file = '%s/CCLE/Cell_lines_annotations_20181226.txt' % dpath\n",
    "drug_feature_file = '%s/GDSC/drug_graph_feat' % dpath\n",
    "genomic_mutation_file = '%s/CCLE/genomic_mutation_34673_demap_features.csv' % dpath\n",
    "cancer_response_exp_file = '%s/CCLE/GDSC_IC50.csv' % dpath\n",
    "gene_expression_file = '%s/CCLE/genomic_expression_561celllines_697genes_demap_features.csv' % dpath\n",
    "methylation_file = '%s/CCLE/genomic_methylation_561celllines_808genes_demap_features.csv' % dpath\n",
    "raw_files = NeededFiles(drug_info_file, cell_line_info_file, drug_feature_file, genomic_mutation_file,\n",
    "                        cancer_response_exp_file, gene_expression_file, methylation_file)\n",
    "graph_dataset = DeepCDRDataset(raw_files, 100)\n",
    "\n",
    "\n",
    "class TestModel(pl.LightningModule):\n",
    "    def __init__(self):\n",
    "        super().__init__()\n",
    "        self.cnn = create_1d_cnn(Conv1DConfig([1, 30, 90, 200], [10, 10, 10], [tanh, relu, relu], [10, 10, 10], False))\n",
    "        self.fc_input = create_fcn(FCConfig([256], [relu], output=128, p_dropout=0, use_bn=False))\n",
    "        self.reg = create_fcn(FCConfig([100, 50, 10], [relu, relu, relu], output=1, p_dropout=0, use_bn=False))\n",
    "\n",
    "    def forward(self, x_1, x_2):\n",
    "        x_1_feat = self.cnn(x_1)\n",
    "        x_1_feat = nn.Flatten()(x_1_feat)\n",
    "\n",
    "        x_2 = self.fc_input(x_2)\n",
    "\n",
    "        x_feat = torch.cat((x_1_feat, x_2), dim=-1)\n",
    "\n",
    "        output = self.reg(x_feat)\n",
    "        return output\n",
    "\n",
    "    def training_step(self, batch):\n",
    "        x_1, x_2, y = batch\n",
    "        loss = F.mse_loss(self(x_1, x_2), y)\n",
    "        self.log(\"train loss\", loss, logger=True)\n",
    "        return loss\n",
    "\n",
    "    def configure_optimizers(self):\n",
    "        return torch.optim.Adam(self.parameters(), lr=0.01)\n",
    "\n",
    "    def train_dataloader(self):\n",
    "        x_1 = torch.ones(1, 1, 34673)\n",
    "        x_2 = torch.ones(1, 808)\n",
    "        y = torch.zeros(1)\n",
    "        dataset = TensorDataset(x_1, x_2, y)\n",
    "        dataloader = DataLoader(dataset, batch_size=1, shuffle=False)\n",
    "        return dataloader\n",
    "\n",
    "class GNNTest(pl.LightningModule):\n",
    "    def __init__(self):\n",
    "        super().__init__()\n",
    "        self.gnn = create_gnn(GNNConfig([75, 512, 100], [GCN, GCN], [f_relu, f_relu], False))\n",
    "        self.reg = create_fcn(FCConfig([100, 50], [relu, relu], output=1, use_bn=False))\n",
    "\n",
    "    def forward(self, x, edge_index):\n",
    "        feat = self.gnn(x.squeeze(), edge_index.squeeze())\n",
    "        x_feat = torch.cat((torch.flatten(feat), torch.ones(100)), dim=-1)\n",
    "\n",
    "        output = self.reg(x_feat)\n",
    "        return output\n",
    "\n",
    "    def training_step(self, batch):\n",
    "        x, edge_index, y = batch\n",
    "        loss = F.mse_loss(self(x, edge_index), y)\n",
    "        self.log(\"train loss\", loss, logger=True)\n",
    "        return loss\n",
    "\n",
    "    def configure_optimizers(self):\n",
    "        return torch.optim.Adam(self.parameters(), lr=0.01)\n",
    "\n",
    "    def train_dataloader(self):\n",
    "        x = graph_dataset[0][0].x[None, :]\n",
    "        edge_index = graph_dataset[0][0].edge_index[None, :]\n",
    "        y = torch.zeros(1)\n",
    "        dataset = TensorDataset(x, edge_index, y)\n",
    "        dataloader = DataLoader(dataset, batch_size=1, shuffle=False)\n",
    "        return dataloader\n",
    "\n",
    "model = GNNTest()\n",
    "x, edge_index, y = next(iter(model.train_dataloader()))\n",
    "model.forward(x, edge_index)"
   ],
   "metadata": {
    "collapsed": false,
    "pycharm": {
     "name": "#%%\n"
    }
   }
  },
  {
   "cell_type": "code",
   "execution_count": 10,
   "outputs": [
    {
     "name": "stderr",
     "output_type": "stream",
     "text": [
      "GPU available: False, used: False\n",
      "TPU available: False, using: 0 TPU cores\n",
      "IPU available: False, using: 0 IPUs\n",
      "HPU available: False, using: 0 HPUs\n",
      "`Trainer(overfit_batches=1)` was configured so 1 batch will be used.\n",
      "\n",
      "  | Name | Type              | Params\n",
      "-------------------------------------------\n",
      "0 | gnn  | Sequential_ce74e3 | 90.2 K\n",
      "1 | reg  | Sequential        | 1.0 M \n",
      "-------------------------------------------\n",
      "1.1 M     Trainable params\n",
      "0         Non-trainable params\n",
      "1.1 M     Total params\n",
      "4.422     Total estimated model params size (MB)\n",
      "/home/user/PycharmProjects/DeepCDR/venv/lib/python3.8/site-packages/pytorch_lightning/trainer/connectors/data_connector.py:240: PossibleUserWarning: The dataloader, train_dataloader, does not have many workers which may be a bottleneck. Consider increasing the value of the `num_workers` argument` (try 16 which is the number of cpus on this machine) in the `DataLoader` init to improve performance.\n",
      "  rank_zero_warn(\n",
      "/home/user/PycharmProjects/DeepCDR/venv/lib/python3.8/site-packages/pytorch_lightning/trainer/trainer.py:1927: PossibleUserWarning: The number of training batches (1) is smaller than the logging interval Trainer(log_every_n_steps=5). Set a lower value for log_every_n_steps if you want to see logs for the training epoch.\n",
      "  rank_zero_warn(\n"
     ]
    },
    {
     "data": {
      "text/plain": "Training: 0it [00:00, ?it/s]",
      "application/vnd.jupyter.widget-view+json": {
       "version_major": 2,
       "version_minor": 0,
       "model_id": "86192785fe9144fa9583df910d16d383"
      }
     },
     "metadata": {},
     "output_type": "display_data"
    },
    {
     "name": "stderr",
     "output_type": "stream",
     "text": [
      "2022-06-06 15:04:05.998228: W tensorflow/stream_executor/platform/default/dso_loader.cc:64] Could not load dynamic library 'libcudart.so.11.0'; dlerror: libcudart.so.11.0: cannot open shared object file: No such file or directory\n",
      "2022-06-06 15:04:05.998294: I tensorflow/stream_executor/cuda/cudart_stub.cc:29] Ignore above cudart dlerror if you do not have a GPU set up on your machine.\n",
      "Using TensorFlow backend.\n"
     ]
    }
   ],
   "source": [
    "logger=TensorBoardLogger(save_dir=\"test_log\", name=\"FCTest\")\n",
    "trainer = pl.Trainer(logger=logger, max_epochs=300, overfit_batches=1, log_every_n_steps=5)\n",
    "trainer.fit(model)"
   ],
   "metadata": {
    "collapsed": false,
    "pycharm": {
     "name": "#%%\n"
    }
   }
  },
  {
   "cell_type": "code",
   "execution_count": 44,
   "outputs": [
    {
     "data": {
      "text/plain": "Launching TensorBoard..."
     },
     "metadata": {},
     "output_type": "display_data"
    },
    {
     "data": {
      "text/plain": "<IPython.core.display.HTML object>",
      "text/html": "\n      <iframe id=\"tensorboard-frame-e3e70682c2094cac\" width=\"100%\" height=\"800\" frameborder=\"0\">\n      </iframe>\n      <script>\n        (function() {\n          const frame = document.getElementById(\"tensorboard-frame-e3e70682c2094cac\");\n          const url = new URL(\"/\", window.location);\n          const port = 6006;\n          if (port) {\n            url.port = port;\n          }\n          frame.src = url;\n        })();\n      </script>\n    "
     },
     "metadata": {},
     "output_type": "display_data"
    }
   ],
   "source": [
    "%reload_ext tensorboard\n",
    "%tensorboard --logdir test_log/"
   ],
   "metadata": {
    "collapsed": false,
    "pycharm": {
     "name": "#%%\n"
    }
   }
  },
  {
   "cell_type": "code",
   "execution_count": 43,
   "outputs": [],
   "source": [],
   "metadata": {
    "collapsed": false,
    "pycharm": {
     "name": "#%%\n"
    }
   }
  },
  {
   "cell_type": "code",
   "execution_count": null,
   "outputs": [],
   "source": [],
   "metadata": {
    "collapsed": false,
    "pycharm": {
     "name": "#%%\n"
    }
   }
  }
 ],
 "metadata": {
  "kernelspec": {
   "display_name": "Python 3",
   "language": "python",
   "name": "python3"
  },
  "language_info": {
   "codemirror_mode": {
    "name": "ipython",
    "version": 2
   },
   "file_extension": ".py",
   "mimetype": "text/x-python",
   "name": "python",
   "nbconvert_exporter": "python",
   "pygments_lexer": "ipython2",
   "version": "2.7.6"
  }
 },
 "nbformat": 4,
 "nbformat_minor": 0
}