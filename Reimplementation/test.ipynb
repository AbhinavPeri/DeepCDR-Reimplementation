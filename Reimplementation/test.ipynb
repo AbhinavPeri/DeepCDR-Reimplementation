{
 "cells": [
  {
   "cell_type": "code",
   "execution_count": 12,
   "outputs": [
    {
     "name": "stderr",
     "output_type": "stream",
     "text": [
      "GPU available: False, used: False\n",
      "TPU available: False, using: 0 TPU cores\n",
      "IPU available: False, using: 0 IPUs\n",
      "HPU available: False, using: 0 HPUs\n",
      "`Trainer(overfit_batches=1)` was configured so 1 batch will be used.\n",
      "\n",
      "  | Name  | Type   | Params\n",
      "---------------------------------\n",
      "0 | model | Linear | 2     \n",
      "---------------------------------\n",
      "2         Trainable params\n",
      "0         Non-trainable params\n",
      "2         Total params\n",
      "0.000     Total estimated model params size (MB)\n"
     ]
    },
    {
     "data": {
      "text/plain": "Training: 0it [00:00, ?it/s]",
      "application/vnd.jupyter.widget-view+json": {
       "version_major": 2,
       "version_minor": 0,
       "model_id": "7655ee2985fd40fdb109f740e972e8ac"
      }
     },
     "metadata": {},
     "output_type": "display_data"
    }
   ],
   "source": [
    "from torch.optim import SGD\n",
    "from Reimplementation.util.utils import create_fcn\n",
    "from Reimplementation.util.config import FCConfig\n",
    "import torch\n",
    "import torch.nn.functional as F\n",
    "import pytorch_lightning as pl\n",
    "from torch.utils.data import random_split, TensorDataset, DataLoader\n",
    "from torch import nn\n",
    "\n",
    "class TestModel(pl.LightningModule):\n",
    "    def __init__(self):\n",
    "        super().__init__()\n",
    "        self.model = nn.Linear(1, 1)\n",
    "\n",
    "    def forward(self, x):\n",
    "        return self.model(x)\n",
    "\n",
    "    def training_step(self, batch):\n",
    "        x, y = batch\n",
    "        return F.mse_loss(self(x), y)\n",
    "\n",
    "    def configure_optimizers(self):\n",
    "        return torch.optim.Adam(self.parameters(), lr=0.5)\n",
    "\n",
    "    def train_dataloader(self):\n",
    "        x = torch.arange(-100, 100, dtype=torch.float).reshape((-1, 1))\n",
    "        y = 10 * x + 3\n",
    "        dataset = TensorDataset(x, y)\n",
    "        dataloader = DataLoader(dataset, batch_size=100, shuffle=False)\n",
    "        return dataloader\n",
    "\n",
    "\n",
    "model = TestModel()\n",
    "trainer = pl.Trainer(max_epochs=300, overfit_batches=1)\n",
    "trainer.fit(model)"
   ],
   "metadata": {
    "collapsed": false,
    "pycharm": {
     "name": "#%%\n"
    }
   }
  },
  {
   "cell_type": "code",
   "execution_count": null,
   "outputs": [],
   "source": [
    "# def training_step(model, batch):\n",
    "#         x, y = batch\n",
    "#         prediction = model(x)\n",
    "#         loss = F.mse_loss(prediction, y)\n",
    "#         return loss\n",
    "#\n",
    "# test_model = nn.Sequential(nn.Linear(1, 1), nn.ReLU())\n",
    "# x = torch.arange(10, 10000, dtype=torch.float).reshape((-1, 1))\n",
    "# y = 10 * x + 3\n",
    "# dataset = TensorDataset(x, y)\n",
    "# dataloader = DataLoader(dataset, batch_size=1, shuffle=False)\n",
    "# iterator = iter(dataloader)\n",
    "# optim = SGD(test_model.parameters(), lr=0.005)\n",
    "#\n",
    "# for i in range(int(0.001 * len(iterator))):\n",
    "#     sample_batch = next(iterator)\n",
    "#     print(\"--------------------------------------------------\")\n",
    "#     print(\"Batch: \", sample_batch, \"\\n\")\n",
    "#     print(\"Parameters Before: \", [param for param in test_model.parameters()], \"\\n\")\n",
    "#     loss = training_step(test_model, sample_batch)\n",
    "#     print(\"Loss: \", loss, \"\\n\")\n",
    "#     optim.zero_grad()\n",
    "#     loss.backward()\n",
    "#     print(\"Gradients: \", [param.grad for param in test_model.parameters()], \"\\n\")\n",
    "#     optim.step()\n",
    "#     print(\"Parameters after: \", [param for param in test_model.parameters()], \"\\n\")"
   ],
   "metadata": {
    "collapsed": false,
    "pycharm": {
     "name": "#%%\n"
    }
   }
  },
  {
   "cell_type": "code",
   "execution_count": 6,
   "outputs": [
    {
     "data": {
      "text/plain": "torch.Size([1, 2, 2])"
     },
     "execution_count": 6,
     "metadata": {},
     "output_type": "execute_result"
    }
   ],
   "source": [
    "import torch\n",
    "from torch import nn\n",
    "\n",
    "x = torch.tensor([[[1, 2], [3, 4]]])\n",
    "x.shape"
   ],
   "metadata": {
    "collapsed": false,
    "pycharm": {
     "name": "#%%\n"
    }
   }
  },
  {
   "cell_type": "code",
   "execution_count": 7,
   "outputs": [
    {
     "data": {
      "text/plain": "torch.Size([1, 4])"
     },
     "execution_count": 7,
     "metadata": {},
     "output_type": "execute_result"
    }
   ],
   "source": [
    "x = nn.Flatten()(x)\n",
    "x.shape"
   ],
   "metadata": {
    "collapsed": false,
    "pycharm": {
     "name": "#%%\n"
    }
   }
  },
  {
   "cell_type": "code",
   "execution_count": null,
   "outputs": [],
   "source": [],
   "metadata": {
    "collapsed": false,
    "pycharm": {
     "name": "#%%\n"
    }
   }
  }
 ],
 "metadata": {
  "kernelspec": {
   "display_name": "Python 3",
   "language": "python",
   "name": "python3"
  },
  "language_info": {
   "codemirror_mode": {
    "name": "ipython",
    "version": 2
   },
   "file_extension": ".py",
   "mimetype": "text/x-python",
   "name": "python",
   "nbconvert_exporter": "python",
   "pygments_lexer": "ipython2",
   "version": "2.7.6"
  }
 },
 "nbformat": 4,
 "nbformat_minor": 0
}