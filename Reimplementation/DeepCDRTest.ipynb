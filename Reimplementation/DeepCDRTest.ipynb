{
 "cells": [
  {
   "cell_type": "code",
   "execution_count": 1,
   "metadata": {
    "collapsed": true,
    "pycharm": {
     "name": "#%%\n"
    }
   },
   "outputs": [],
   "source": [
    "import pytorch_lightning\n",
    "\n",
    "from Reimplementation.data.DeepCDRDataModule import DeepCDRDataModule\n",
    "from Reimplementation.models.DeepCDRLitModule import DeepCDRLitModule\n",
    "from Reimplementation.util.config import *\n",
    "%load_ext tensorboard"
   ]
  },
  {
   "cell_type": "code",
   "execution_count": 3,
   "metadata": {
    "pycharm": {
     "name": "#%%\n"
    }
   },
   "outputs": [],
   "source": [
    "dpath = '../data'\n",
    "drug_info_file = '%s/GDSC/1.Drug_listMon Jun 24 09_00_55 2019.csv' % dpath\n",
    "cell_line_info_file = '%s/CCLE/Cell_lines_annotations_20181226.txt' % dpath\n",
    "drug_feature_file = '%s/GDSC/drug_graph_feat' % dpath\n",
    "genomic_mutation_file = '%s/CCLE/genomic_mutation_34673_demap_features.csv' % dpath\n",
    "cancer_response_exp_file = '%s/CCLE/GDSC_IC50.csv' % dpath\n",
    "gene_expression_file = '%s/CCLE/genomic_expression_561celllines_697genes_demap_features.csv' % dpath\n",
    "methylation_file = '%s/CCLE/genomic_methylation_561celllines_808genes_demap_features.csv' % dpath\n",
    "raw_files = NeededFiles(drug_info_file, cell_line_info_file, drug_feature_file, genomic_mutation_file,\n",
    "                        cancer_response_exp_file, gene_expression_file, methylation_file)\n",
    "\n",
    "GCN = ConvType.GCN\n",
    "GAT = ConvType.GAT\n",
    "tanh = ActivationFunc.Tanh\n",
    "relu = ActivationFunc.ReLU\n",
    "f_tanh = FuncActivationFunc.Tanh\n",
    "f_relu = FuncActivationFunc.ReLU\n",
    "\n",
    "drug_config = GNNConfig([75, 256, 256, 256], [GCN, GCN, GCN], [f_relu, f_relu, f_relu], False)\n",
    "mutation_config = Conv1DConfig([1, 50, 30], [700, 5], [tanh, relu], [5, 10], False)\n",
    "g_expr_config = FCConfig([256], [tanh], output=100, p_dropout=0.1, use_bn=False)\n",
    "meth_config = FCConfig([256], [tanh], output=100, p_dropout=0.1, use_bn=False)\n",
    "regressor_cnn_config = Conv1DConfig([1, 30, 10, 5], [150, 5, 5], [relu, relu, relu], [2, 3, 3], False)\n",
    "regressor_fc_config = FCConfig([], [], output=1, p_dropout=0.1, use_bn=False)\n",
    "config = DeepCDRConfig(drug_config, mutation_config, g_expr_config, meth_config, regressor_cnn_config, regressor_fc_config)"
   ]
  },
  {
   "cell_type": "code",
   "execution_count": 8,
   "metadata": {
    "pycharm": {
     "name": "#%%\n"
    }
   },
   "outputs": [
    {
     "name": "stderr",
     "output_type": "stream",
     "text": [
      "/home/user/PycharmProjects/DeepCDR/venv/lib/python3.8/site-packages/torch/nn/modules/lazy.py:178: UserWarning: Lazy modules are a new feature under heavy development so changes to the API or functionality can happen at any moment.\n",
      "  warnings.warn('Lazy modules are a new feature under heavy development '\n"
     ]
    }
   ],
   "source": [
    "data = DeepCDRDataModule(raw_files, 100, batch_size=10)\n",
    "model = DeepCDRLitModule(config, lr=0.000001)"
   ]
  },
  {
   "cell_type": "code",
   "execution_count": 5,
   "outputs": [
    {
     "name": "stdout",
     "output_type": "stream",
     "text": [
      "6\n",
      "2\n",
      "2\n"
     ]
    }
   ],
   "source": [
    "data.get_debug_batch()\n",
    "print(len(data.train_dataloader()))\n",
    "print(len(data.val_dataloader()))\n",
    "print(len(data.test_dataloader()))"
   ],
   "metadata": {
    "collapsed": false,
    "pycharm": {
     "name": "#%%\n"
    }
   }
  },
  {
   "cell_type": "code",
   "execution_count": 9,
   "metadata": {
    "pycharm": {
     "name": "#%%\n"
    }
   },
   "outputs": [
    {
     "name": "stderr",
     "output_type": "stream",
     "text": [
      "Global seed set to 0\n",
      "/home/user/PycharmProjects/DeepCDR/venv/lib/python3.8/site-packages/pytorch_lightning/loops/utilities.py:91: PossibleUserWarning: `max_epochs` was not set. Setting it to 1000 epochs. To train without an epoch limit, set `max_epochs=-1`.\n",
      "  rank_zero_warn(\n",
      "GPU available: False, used: False\n",
      "TPU available: False, using: 0 TPU cores\n",
      "IPU available: False, using: 0 IPUs\n",
      "HPU available: False, using: 0 HPUs\n",
      "GPU available: False, used: False\n",
      "TPU available: False, using: 0 TPU cores\n",
      "IPU available: False, using: 0 IPUs\n",
      "HPU available: False, using: 0 HPUs\n",
      "`Trainer(overfit_batches=1)` was configured so 1 batch will be used.\n"
     ]
    }
   ],
   "source": [
    "import pytorch_lightning as pl\n",
    "from  pytorch_lightning.tuner.tuning import Tuner\n",
    "from pytorch_lightning.loggers.tensorboard import TensorBoardLogger\n",
    "\n",
    "pl.seed_everything(0)\n",
    "early_stopping = pl.callbacks.early_stopping.EarlyStopping(monitor=\"Validation loss\", mode='min', stopping_threshold=0.005, patience=4)\n",
    "logger=TensorBoardLogger(save_dir=\"log\", name=\"DeepCDR_Logs\", version=\"Only one final Linear Layer for regression with convolution\")\n",
    "trainer = pl.Trainer(logger=logger, callbacks=[early_stopping], log_every_n_steps=1)\n",
    "debug_trainer = pl.Trainer(overfit_batches=1, logger=logger, max_epochs=40, log_every_n_steps=1)"
   ]
  },
  {
   "cell_type": "code",
   "execution_count": 12,
   "outputs": [
    {
     "name": "stderr",
     "output_type": "stream",
     "text": [
      "\n",
      "  | Name              | Type              | Params | In sizes              | Out sizes \n",
      "---------------------------------------------------------------------------------------------\n",
      "0 | drug_gnn          | Sequential_23c6d8 | 151 K  | [[100, 75], [2, 101]] | [100, 256]\n",
      "1 | mutation_cnn1d    | Sequential        | 2.1 M  | [1, 1, 34673]         | [1, 100]  \n",
      "2 | g_expr_fcn        | Sequential        | 204 K  | [1, 697]              | [1, 100]  \n",
      "3 | meth_fcn          | Sequential        | 232 K  | [1, 808]              | [1, 100]  \n",
      "4 | regression_conv1d | Sequential        | 720 K  | [1, 1, 25900]         | [1, 100]  \n",
      "5 | regression_fc     | Sequential        | 101    | [1, 100]              | [1, 1]    \n",
      "---------------------------------------------------------------------------------------------\n",
      "3.4 M     Trainable params\n",
      "0         Non-trainable params\n",
      "3.4 M     Total params\n",
      "13.554    Total estimated model params size (MB)\n"
     ]
    }
   ],
   "source": [
    "debug_trainer.fit(model, datamodule=data)"
   ],
   "metadata": {
    "collapsed": false,
    "pycharm": {
     "name": "#%%\n"
    }
   }
  },
  {
   "cell_type": "code",
   "execution_count": null,
   "outputs": [],
   "source": [
    "# Loading TensorBoard\n",
    "%reload_ext tensorboard\n",
    "%tensorboard --logdir log/"
   ],
   "metadata": {
    "collapsed": false,
    "pycharm": {
     "name": "#%%\n"
    }
   }
  },
  {
   "cell_type": "code",
   "execution_count": 8,
   "outputs": [],
   "source": [],
   "metadata": {
    "collapsed": false,
    "pycharm": {
     "name": "#%%\n"
    }
   }
  }
 ],
 "metadata": {
  "kernelspec": {
   "display_name": "Python 3 (ipykernel)",
   "language": "python",
   "name": "python3"
  },
  "language_info": {
   "codemirror_mode": {
    "name": "ipython",
    "version": 3
   },
   "file_extension": ".py",
   "mimetype": "text/x-python",
   "name": "python",
   "nbconvert_exporter": "python",
   "pygments_lexer": "ipython3",
   "version": "3.8.10"
  }
 },
 "nbformat": 4,
 "nbformat_minor": 1
}