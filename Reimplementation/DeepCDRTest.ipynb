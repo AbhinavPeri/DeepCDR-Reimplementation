{
 "cells": [
  {
   "cell_type": "code",
   "execution_count": 1,
   "metadata": {
    "collapsed": true,
    "pycharm": {
     "name": "#%%\n"
    }
   },
   "outputs": [],
   "source": [
    "import pytorch_lightning\n",
    "\n",
    "from Reimplementation.data.DeepCDRDataModule import DeepCDRDataModule\n",
    "from Reimplementation.models.DeepCDRLitModule import DeepCDRLitModule\n",
    "from Reimplementation.util.config import *\n",
    "%load_ext tensorboard"
   ]
  },
  {
   "cell_type": "code",
   "execution_count": 2,
   "metadata": {
    "pycharm": {
     "name": "#%%\n"
    }
   },
   "outputs": [],
   "source": [
    "dpath = '../data'\n",
    "drug_info_file = '%s/GDSC/1.Drug_listMon Jun 24 09_00_55 2019.csv' % dpath\n",
    "cell_line_info_file = '%s/CCLE/Cell_lines_annotations_20181226.txt' % dpath\n",
    "drug_feature_file = '%s/GDSC/drug_graph_feat' % dpath\n",
    "genomic_mutation_file = '%s/CCLE/genomic_mutation_34673_demap_features.csv' % dpath\n",
    "cancer_response_exp_file = '%s/CCLE/GDSC_IC50.csv' % dpath\n",
    "gene_expression_file = '%s/CCLE/genomic_expression_561celllines_697genes_demap_features.csv' % dpath\n",
    "methylation_file = '%s/CCLE/genomic_methylation_561celllines_808genes_demap_features.csv' % dpath\n",
    "raw_files = NeededFiles(drug_info_file, cell_line_info_file, drug_feature_file, genomic_mutation_file,\n",
    "                        cancer_response_exp_file, gene_expression_file, methylation_file)\n",
    "\n",
    "GCN = ConvType.GCN\n",
    "GAT = ConvType.GAT\n",
    "tanh = ActivationFunc.Tanh\n",
    "relu = ActivationFunc.ReLU\n",
    "f_tanh = FuncActivationFunc.Tanh\n",
    "f_relu = FuncActivationFunc.ReLU\n",
    "\n",
    "drug_config = GNNConfig([75, 256, 128, 64, 20], [GCN, GCN, GCN, GCN], [f_relu, f_relu, f_relu, f_relu], False)\n",
    "mutation_config = Conv1DConfig([1, 30, 30, 30], [700, 500, 100], [tanh, relu, relu], [20, 10, 10], False)\n",
    "g_expr_config = FCConfig([697, 256, 20], [tanh, relu], False)\n",
    "meth_config = FCConfig([808, 256, 20], [tanh, relu], False)\n",
    "regressor_config = Conv1DConfig([1, 30, 10, 5], [150, 5, 5], [tanh, tanh, tanh], [2, 3, 3], False)\n",
    "config = DeepCDRConfig(drug_config, mutation_config, g_expr_config, meth_config, regressor_config)"
   ]
  },
  {
   "cell_type": "code",
   "execution_count": 3,
   "metadata": {
    "pycharm": {
     "name": "#%%\n"
    }
   },
   "outputs": [],
   "source": [
    "data = DeepCDRDataModule(raw_files, 100, batch_size=30)\n",
    "model = DeepCDRLitModule(config)"
   ]
  },
  {
   "cell_type": "code",
   "execution_count": 4,
   "outputs": [
    {
     "name": "stdout",
     "output_type": "stream",
     "text": [
      "torch.Size([30, 1, 34673])\n"
     ]
    }
   ],
   "source": [
    "batch = data.get_debug_batch()\n",
    "drug, mut, g_exp, meth, ic50 = batch\n",
    "print(mut.shape)"
   ],
   "metadata": {
    "collapsed": false,
    "pycharm": {
     "name": "#%%\n"
    }
   }
  },
  {
   "cell_type": "code",
   "execution_count": 12,
   "metadata": {
    "pycharm": {
     "name": "#%%\n"
    }
   },
   "outputs": [
    {
     "name": "stderr",
     "output_type": "stream",
     "text": [
      "Global seed set to 0\n",
      "/home/user/PycharmProjects/DeepCDR/venv/lib/python3.8/site-packages/pytorch_lightning/loops/utilities.py:91: PossibleUserWarning: `max_epochs` was not set. Setting it to 1000 epochs. To train without an epoch limit, set `max_epochs=-1`.\n",
      "  rank_zero_warn(\n",
      "GPU available: False, used: False\n",
      "TPU available: False, using: 0 TPU cores\n",
      "IPU available: False, using: 0 IPUs\n",
      "HPU available: False, using: 0 HPUs\n",
      "GPU available: False, used: False\n",
      "TPU available: False, using: 0 TPU cores\n",
      "IPU available: False, using: 0 IPUs\n",
      "HPU available: False, using: 0 HPUs\n",
      "`Trainer(overfit_batches=1)` was configured so 1 batch will be used.\n"
     ]
    }
   ],
   "source": [
    "import pytorch_lightning as pl\n",
    "from pytorch_lightning.loggers.tensorboard import TensorBoardLogger\n",
    "\n",
    "pl.seed_everything(0)\n",
    "early_stopping = pl.callbacks.early_stopping.EarlyStopping(monitor=\"Validation loss\", mode='min', stopping_threshold=0.005, patience=4)\n",
    "logger=TensorBoardLogger(save_dir=\"log\", name=\"DeepCDR_Logs\", version=\"Only one final Linear Layer for regression with convolution\")\n",
    "trainer = pl.Trainer(logger=logger, callbacks=[early_stopping], log_every_n_steps=1, auto_lr_find=True, auto_scale_batch_size=True, min_epochs=40)\n",
    "debug_trainer = pl.Trainer(overfit_batches=1, logger=logger, max_epochs=100, log_every_n_steps=1)"
   ]
  },
  {
   "cell_type": "code",
   "execution_count": 13,
   "metadata": {
    "pycharm": {
     "name": "#%%\n"
    }
   },
   "outputs": [
    {
     "name": "stderr",
     "output_type": "stream",
     "text": [
      "\n",
      "  | Name              | Type              | Params | In sizes              | Out sizes  \n",
      "----------------------------------------------------------------------------------------------\n",
      "0 | drug_gnn          | Sequential_841b95 | 61.9 K | [[100, 75], [2, 101]] | [100, 20]  \n",
      "1 | mutation_cnn1d    | Sequential        | 561 K  | [1, 1, 34673]         | [1, 30, 2] \n",
      "2 | g_expr_fcn        | Sequential        | 183 K  | [1, 697]              | [1, 20]    \n",
      "3 | meth_fcn          | Sequential        | 212 K  | [1, 808]              | [1, 20]    \n",
      "4 | regression_conv1d | Sequential        | 6.3 K  | [1, 1, 2140]          | [1, 5, 108]\n",
      "----------------------------------------------------------------------------------------------\n",
      "1.0 M     Trainable params\n",
      "0         Non-trainable params\n",
      "1.0 M     Total params\n",
      "4.101     Total estimated model params size (MB)\n",
      "/home/user/PycharmProjects/DeepCDR/venv/lib/python3.8/site-packages/pytorch_lightning/trainer/connectors/data_connector.py:471: UserWarning: You requested to overfit but enabled training dataloader shuffling. We are turning off the training dataloader shuffling for you.\n",
      "  rank_zero_warn(\n"
     ]
    },
    {
     "data": {
      "text/plain": "Training: 0it [00:00, ?it/s]",
      "application/vnd.jupyter.widget-view+json": {
       "version_major": 2,
       "version_minor": 0,
       "model_id": "2337a3626db441798ae523e364511ab3"
      }
     },
     "metadata": {},
     "output_type": "display_data"
    }
   ],
   "source": [
    "# writer = SummaryWriter()\n",
    "# writer.add_graph(model.regressor, batch[2])\n",
    "# writer.close()\n",
    "debug_trainer.fit(model, datamodule=data)\n",
    "# trainer.tune(model, datamodule=data)\n",
    "# trainer.fit(model, datamodule=data)"
   ]
  },
  {
   "cell_type": "code",
   "execution_count": 11,
   "outputs": [
    {
     "data": {
      "text/plain": "Launching TensorBoard..."
     },
     "metadata": {},
     "output_type": "display_data"
    },
    {
     "data": {
      "text/plain": "<IPython.core.display.HTML object>",
      "text/html": "\n      <iframe id=\"tensorboard-frame-629f6fbed82c07cd\" width=\"100%\" height=\"800\" frameborder=\"0\">\n      </iframe>\n      <script>\n        (function() {\n          const frame = document.getElementById(\"tensorboard-frame-629f6fbed82c07cd\");\n          const url = new URL(\"/\", window.location);\n          const port = 6006;\n          if (port) {\n            url.port = port;\n          }\n          frame.src = url;\n        })();\n      </script>\n    "
     },
     "metadata": {},
     "output_type": "display_data"
    }
   ],
   "source": [
    "# Loading TensorBoard\n",
    "%reload_ext tensorboard\n",
    "%tensorboard --logdir log/"
   ],
   "metadata": {
    "collapsed": false,
    "pycharm": {
     "name": "#%%\n"
    }
   }
  },
  {
   "cell_type": "code",
   "execution_count": 8,
   "outputs": [],
   "source": [],
   "metadata": {
    "collapsed": false,
    "pycharm": {
     "name": "#%%\n"
    }
   }
  }
 ],
 "metadata": {
  "kernelspec": {
   "display_name": "Python 3 (ipykernel)",
   "language": "python",
   "name": "python3"
  },
  "language_info": {
   "codemirror_mode": {
    "name": "ipython",
    "version": 3
   },
   "file_extension": ".py",
   "mimetype": "text/x-python",
   "name": "python",
   "nbconvert_exporter": "python",
   "pygments_lexer": "ipython3",
   "version": "3.8.10"
  }
 },
 "nbformat": 4,
 "nbformat_minor": 1
}